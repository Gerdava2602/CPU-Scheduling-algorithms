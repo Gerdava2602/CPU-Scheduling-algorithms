{
 "cells": [
  {
   "cell_type": "code",
   "execution_count": 18,
   "metadata": {},
   "outputs": [],
   "source": [
    "import numpy as np\n",
    "import pandas as pd\n",
    "import matplotlib.pyplot as plt"
   ]
  },
  {
   "cell_type": "markdown",
   "metadata": {},
   "source": [
    "## Random processes creation"
   ]
  },
  {
   "cell_type": "code",
   "execution_count": 19,
   "metadata": {},
   "outputs": [],
   "source": [
    "# (burst, arrival)\n",
    "def create_processes(n):\n",
    "    return np.random.randint(0, 10, size=(n,2))\n",
    "processes = create_processes(100)"
   ]
  },
  {
   "cell_type": "code",
   "execution_count": 20,
   "metadata": {},
   "outputs": [],
   "source": [
    "process_1 = np.array([\n",
    "    [24,1],\n",
    "    [5,2],\n",
    "    [3,3],\n",
    "])"
   ]
  },
  {
   "cell_type": "markdown",
   "metadata": {},
   "source": [
    "### FCFS"
   ]
  },
  {
   "cell_type": "code",
   "execution_count": 21,
   "metadata": {},
   "outputs": [],
   "source": [
    "def fcfs(processes):\n",
    "    n = len(processes)\n",
    "    rows = []\n",
    "    total_time = 0\n",
    "    processes = processes[processes[:,1].argsort()]\n",
    "    process = 0\n",
    "    print(processes)\n",
    "    for burst, arrival in processes:\n",
    "        if process == 0:\n",
    "            wait_time = 0\n",
    "            total_time += burst + arrival\n",
    "            process += 1\n",
    "        else:\n",
    "            wait_time = total_time - arrival\n",
    "            total_time += burst    \n",
    "        turnaround_time = wait_time + burst\n",
    "        print('Process {}: wait time = {}, turnaround time = {}, total_time = {}'.format(process, wait_time, turnaround_time, total_time))\n",
    "        rows.append([burst, arrival,wait_time, turnaround_time])\n",
    "    rows = np.array(rows)\n",
    "    return {\n",
    "        'Gantt Chart': rows,\n",
    "        'Average Wait Time': rows[:,2].mean(),\n",
    "        'Average Turnaround Time': rows[:,3].mean(),\n",
    "    }\n"
   ]
  },
  {
   "cell_type": "code",
   "execution_count": 22,
   "metadata": {},
   "outputs": [
    {
     "name": "stdout",
     "output_type": "stream",
     "text": [
      "[[24  1]\n",
      " [ 5  2]\n",
      " [ 3  3]]\n",
      "Process 1: wait time = 0, turnaround time = 24, total_time = 25\n",
      "Process 1: wait time = 23, turnaround time = 28, total_time = 30\n",
      "Process 1: wait time = 27, turnaround time = 30, total_time = 33\n"
     ]
    },
    {
     "data": {
      "text/plain": [
       "{'Gantt Chart': array([[24,  1,  0, 24],\n",
       "        [ 5,  2, 23, 28],\n",
       "        [ 3,  3, 27, 30]]),\n",
       " 'Average Wait Time': 16.666666666666668,\n",
       " 'Average Turnaround Time': 27.333333333333332}"
      ]
     },
     "execution_count": 22,
     "metadata": {},
     "output_type": "execute_result"
    }
   ],
   "source": [
    "fcfs(process_1)"
   ]
  },
  {
   "cell_type": "markdown",
   "metadata": {},
   "source": [
    "### SJF"
   ]
  },
  {
   "cell_type": "code",
   "execution_count": 23,
   "metadata": {},
   "outputs": [],
   "source": [
    "process_1 = np.array([\n",
    "    [5,2],\n",
    "    [4,3],\n",
    "    [24,1],\n",
    "])\n"
   ]
  },
  {
   "cell_type": "code",
   "execution_count": 24,
   "metadata": {},
   "outputs": [],
   "source": [
    "def sjf(processes):\n",
    "    def order_inside(processes, time):\n",
    "        new_processes = []\n",
    "        last_processes = []\n",
    "        for process in processes:\n",
    "            process = process.tolist()\n",
    "            if process[1] <= time:\n",
    "                new_processes.append(process)\n",
    "            else:\n",
    "                last_processes.append(process)\n",
    "        new_processes.sort()\n",
    "        return np.array(new_processes + last_processes)\n",
    "    n = len(processes)\n",
    "    rows = []\n",
    "    total_time = 0\n",
    "    processes = processes[processes[:,1].argsort()]\n",
    "    process = 0\n",
    "    for i in range(len(processes)):\n",
    "        if process == 0:\n",
    "            (burst, arrival), processes = processes[0], processes[1:]\n",
    "            wait_time = 0\n",
    "            total_time += burst + arrival\n",
    "            process += 1\n",
    "        else:\n",
    "            processes = order_inside(processes, total_time)\n",
    "            (burst, arrival), processes = processes[0], processes[1:]\n",
    "            wait_time = total_time - arrival\n",
    "            total_time += burst    \n",
    "        turnaround_time = wait_time + burst\n",
    "        print('Process {}: wait time = {}, turnaround time = {}, total_time = {}'.format(process, wait_time, turnaround_time, total_time))\n",
    "        rows.append([burst, arrival,wait_time, turnaround_time])\n",
    "    rows = np.array(rows)\n",
    "    return {\n",
    "        'Gantt Chart': rows,\n",
    "        'Average Wait Time': rows[:,2].mean(),\n",
    "        'Average Turnaround Time': rows[:,3].mean(),\n",
    "    }\n"
   ]
  },
  {
   "cell_type": "code",
   "execution_count": 25,
   "metadata": {},
   "outputs": [
    {
     "name": "stdout",
     "output_type": "stream",
     "text": [
      "Process 1: wait time = 0, turnaround time = 24, total_time = 25\n",
      "Process 1: wait time = 22, turnaround time = 26, total_time = 29\n",
      "Process 1: wait time = 27, turnaround time = 32, total_time = 34\n"
     ]
    },
    {
     "data": {
      "text/plain": [
       "{'Gantt Chart': array([[24,  1,  0, 24],\n",
       "        [ 4,  3, 22, 26],\n",
       "        [ 5,  2, 27, 32]]),\n",
       " 'Average Wait Time': 16.333333333333332,\n",
       " 'Average Turnaround Time': 27.333333333333332}"
      ]
     },
     "execution_count": 25,
     "metadata": {},
     "output_type": "execute_result"
    }
   ],
   "source": [
    "sjf(process_1)"
   ]
  },
  {
   "cell_type": "code",
   "execution_count": 26,
   "metadata": {},
   "outputs": [],
   "source": [
    "class process():\n",
    "    def __init__(self, id, burst, arrival):\n",
    "        self.id = id\n",
    "        self.burst = burst\n",
    "        self.arrival = arrival\n",
    "        self.wait_time = 0\n",
    "        self.turnaround_time = 0\n",
    "        self.left = burst\n",
    "\n",
    "    def __repr__(self):\n",
    "        return 'id: {}, burst:{}, arrival: {}, wait time: {}, turnaround :{}'.format(self.id, self.burst, self.arrival, self.wait_time, self.turnaround_time)\n",
    "\n",
    "    def to_numpy(self):\n",
    "        return np.array([self.id, self.burst, self.arrival, self.wait_time, self.turnaround_time, self.left])"
   ]
  },
  {
   "cell_type": "code",
   "execution_count": 45,
   "metadata": {},
   "outputs": [],
   "source": [
    "def srtf(processes):\n",
    "    #Helper functions\n",
    "    def process_creation(processes):\n",
    "        i = 0\n",
    "        all_processes = []\n",
    "        for burst, arrival in processes:\n",
    "            all_processes.append(process(i, burst, arrival))\n",
    "            i += 1\n",
    "        return all_processes\n",
    "    def add_all(processes, total_time, except_id=None):\n",
    "        if except_id is None:\n",
    "            return\n",
    "        for process in processes:\n",
    "            if process[0] != except_id and process[2] < total_time:\n",
    "                process[3] += 1\n",
    "        return processes\n",
    "\n",
    "    def subs_actual(processes, id):\n",
    "        for process in processes:\n",
    "            if process[0] == id:\n",
    "                process[-1] -= 1\n",
    "        return processes\n",
    "\n",
    "    def depurate(processes):\n",
    "        actual = []\n",
    "        final = []\n",
    "        for process in processes:\n",
    "            if process[-1] > 0:\n",
    "                actual.append(process)\n",
    "            else:\n",
    "                process[-2] = process[1] + process[3]\n",
    "                final.append(process)\n",
    "        return np.array(actual), np.array(final)\n",
    "    processes = process_creation(processes)\n",
    "    processes = np.array([ex.to_numpy() for ex in processes])\n",
    "    processes = processes[processes[:,2].argsort()]\n",
    "    total_time = 0\n",
    "    actual_id = processes[0][0]\n",
    "    final = []\n",
    "    while True:\n",
    "        processes = subs_actual(processes, actual_id)\n",
    "        processes = add_all(processes, total_time, except_id=actual_id)\n",
    "        processes, new_final = depurate(processes)\n",
    "        if len(new_final) > 0:\n",
    "            final.extend(new_final)\n",
    "        if len(processes) == 0:\n",
    "            total_time+=1\n",
    "            break\n",
    "        processes = processes[np.lexsort((processes[:,2],processes[:,1], processes[:,-1]))]\n",
    "        if processes[0][2] <= total_time:\n",
    "            actual_id = processes[0][0]\n",
    "        total_time+=1\n",
    "    final = np.array(final)\n",
    "    print(final)\n",
    "    return {\n",
    "        'Gantt Chart': final[:,:-1],\n",
    "        'Average Wait Time': final[:,3].mean(),\n",
    "        'Average Turnaround Time': final[:,4].mean(),\n",
    "    }\n",
    "    "
   ]
  },
  {
   "cell_type": "code",
   "execution_count": 46,
   "metadata": {},
   "outputs": [
    {
     "name": "stdout",
     "output_type": "stream",
     "text": [
      "[[ 1  4  3  0  4  0]\n",
      " [ 0  5  2  5 10  0]\n",
      " [ 2 24  1  9 33  0]]\n"
     ]
    },
    {
     "name": "stderr",
     "output_type": "stream",
     "text": [
      "C:\\Users\\gerda\\AppData\\Local\\Temp/ipykernel_12212/1021130965.py:44: DeprecationWarning: The truth value of an empty array is ambiguous. Returning False, but in future this will result in an error. Use `array.size > 0` to check that an array is not empty.\n",
      "  if new_final != []:\n",
      "C:\\Users\\gerda\\AppData\\Local\\Temp/ipykernel_12212/1021130965.py:44: DeprecationWarning: elementwise comparison failed; this will raise an error in the future.\n",
      "  if new_final != []:\n"
     ]
    },
    {
     "data": {
      "text/plain": [
       "{'Gantt Chart': array([[ 1,  4,  3,  0,  4],\n",
       "        [ 0,  5,  2,  5, 10],\n",
       "        [ 2, 24,  1,  9, 33]]),\n",
       " 'Average Wait Time': 4.666666666666667,\n",
       " 'Average Turnaround Time': 15.666666666666666}"
      ]
     },
     "execution_count": 46,
     "metadata": {},
     "output_type": "execute_result"
    }
   ],
   "source": [
    "srtf(process_1)"
   ]
  },
  {
   "cell_type": "code",
   "execution_count": null,
   "metadata": {},
   "outputs": [],
   "source": []
  }
 ],
 "metadata": {
  "kernelspec": {
   "display_name": "Python 3.8.12 ('ds')",
   "language": "python",
   "name": "python3"
  },
  "language_info": {
   "codemirror_mode": {
    "name": "ipython",
    "version": 3
   },
   "file_extension": ".py",
   "mimetype": "text/x-python",
   "name": "python",
   "nbconvert_exporter": "python",
   "pygments_lexer": "ipython3",
   "version": "3.8.12"
  },
  "orig_nbformat": 4,
  "vscode": {
   "interpreter": {
    "hash": "bd0ddb617c57ea9068f696dc73b40dcdfd04f376257b01c4584b1975becdaf0b"
   }
  }
 },
 "nbformat": 4,
 "nbformat_minor": 2
}
